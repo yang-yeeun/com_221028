{
  "nbformat": 4,
  "nbformat_minor": 0,
  "metadata": {
    "colab": {
      "provenance": [],
      "authorship_tag": "ABX9TyM/WYXqzMLXWngjbpj0+yTT",
      "include_colab_link": true
    },
    "kernelspec": {
      "name": "python3",
      "display_name": "Python 3"
    },
    "language_info": {
      "name": "python"
    }
  },
  "cells": [
    {
      "cell_type": "markdown",
      "metadata": {
        "id": "view-in-github",
        "colab_type": "text"
      },
      "source": [
        "<a href=\"https://colab.research.google.com/github/yang-yeeun/com_221028/blob/main/%EC%9C%A0%EC%9D%B8%EB%AC%BC5%EC%AA%BD.ipynb\" target=\"_parent\"><img src=\"https://colab.research.google.com/assets/colab-badge.svg\" alt=\"Open In Colab\"/></a>"
      ]
    },
    {
      "cell_type": "code",
      "execution_count": null,
      "metadata": {
        "colab": {
          "base_uri": "https://localhost:8080/"
        },
        "id": "MdqHlS_7hVai",
        "outputId": "0963fbc0-0a1b-42dd-c7eb-99c1ca18cb34"
      },
      "outputs": [
        {
          "output_type": "stream",
          "name": "stdout",
          "text": [
            "1부터 100까지의 난수를 맞추세요.78\n",
            "틀렸습니다. 다시 입력하세요.\n",
            "난수가 입력한 숫자보다 작습니다.\n",
            "1부터 100까지의 난수를를 맞추세요.45\n",
            "틀렸습니다. 다시 입력하세요.\n",
            "난수가 입력한 숫자보다 큽니다.\n",
            "1부터 100까지의 난수를를 맞추세요.23\n",
            "틀렸습니다. 다시 입력하세요.\n",
            "난수가 입력한 숫자보다 큽니다.\n",
            "1부터 100까지의 난수를를 맞추세요.56\n",
            "틀렸습니다. 다시 입력하세요.\n",
            "난수가 입력한 숫자보다 작습니다.\n",
            "1부터 100까지의 난수를를 맞추세요.54\n",
            "틀렸습니다. 다시 입력하세요.\n",
            "난수가 입력한 숫자보다 작습니다.\n",
            "1부터 100까지의 난수를를 맞추세요.49\n",
            "틀렸습니다. 다시 입력하세요.\n",
            "난수가 입력한 숫자보다 작습니다.\n",
            "1부터 100까지의 난수를를 맞추세요.47\n",
            "틀렸습니다. 다시 입력하세요.\n",
            "난수가 입력한 숫자보다 큽니다.\n",
            "1부터 100까지의 난수를를 맞추세요.48\n",
            "정답입니다.\n",
            "난수: 48\n"
          ]
        }
      ],
      "source": [
        "import random\n",
        "randomNum = random.randrange(1,101)\n",
        "userNum = int(input('1부터 100까지의 난수를 맞추세요.'))\n",
        "macCount = 10\n",
        "count = 0\n",
        "\n",
        "while userNum != randomNum:\n",
        "  print('틀렸습니다. 다시 입력하세요.')\n",
        "\n",
        "  if userNum > randomNum:\n",
        "    print('난수가 입력한 숫자보다 작습니다.')\n",
        "  else:\n",
        "    print('난수가 입력한 숫자보다 큽니다.')\n",
        "\n",
        "  count += 1\n",
        "  if count >= 10:\n",
        "    print('게임에 졌습니다.')\n",
        "    break #없으면 roof\n",
        "  userNum = int(input('1부터 100까지의 난수를 맞추세요.'))\n",
        "else:\n",
        "  print('정답입니다.')\n",
        "print('난수:',randomNum)"
      ]
    },
    {
      "cell_type": "code",
      "source": [],
      "metadata": {
        "id": "VKd-wl8rsk1z"
      },
      "execution_count": null,
      "outputs": []
    }
  ]
}