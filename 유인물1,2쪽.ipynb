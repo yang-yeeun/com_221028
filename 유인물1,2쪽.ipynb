{
  "nbformat": 4,
  "nbformat_minor": 0,
  "metadata": {
    "colab": {
      "provenance": [],
      "authorship_tag": "ABX9TyPzTq+EFB9kjqHM6SF8PeFx",
      "include_colab_link": true
    },
    "kernelspec": {
      "name": "python3",
      "display_name": "Python 3"
    },
    "language_info": {
      "name": "python"
    }
  },
  "cells": [
    {
      "cell_type": "markdown",
      "metadata": {
        "id": "view-in-github",
        "colab_type": "text"
      },
      "source": [
        "<a href=\"https://colab.research.google.com/github/yang-yeeun/com_221028/blob/main/%EC%9C%A0%EC%9D%B8%EB%AC%BC1%2C2%EC%AA%BD.ipynb\" target=\"_parent\"><img src=\"https://colab.research.google.com/assets/colab-badge.svg\" alt=\"Open In Colab\"/></a>"
      ]
    },
    {
      "cell_type": "code",
      "execution_count": 6,
      "metadata": {
        "id": "wLCLRwsdM_0j",
        "colab": {
          "base_uri": "https://localhost:8080/"
        },
        "outputId": "4f1d1d45-e0b5-4dde-ed3a-42c1b07c7add"
      },
      "outputs": [
        {
          "output_type": "stream",
          "name": "stdout",
          "text": [
            "Enter grade:80\n",
            "Enter grade:90\n",
            "Enter grade:88\n",
            "Enter grade:66\n",
            "Enter grade:56\n",
            "Enter grade:47\n",
            "Enter grade:69\n",
            "Enter grade:24\n",
            "Enter grade:45\n",
            "Enter grade:96\n",
            "0.0\n"
          ]
        }
      ],
      "source": [
        "total = 0 #변수\n",
        "counter = 1\n",
        "grade = 0\n",
        "while counter <= 10: #반복문\n",
        "  int(input(\"Enter grade:\"))\n",
        "  total = grade + total\n",
        "  counter = counter + 1\n",
        "average = total / 10\n",
        "print(average)\n",
        "\n"
      ]
    },
    {
      "cell_type": "code",
      "source": [
        "print(\"3개의 값을 입력하시오\")\n",
        "x = int(input(\"Enter the x:\"))\n",
        "y = int(input(\"Enter the y:\"))\n",
        "z = int(input(\"Enter the z:\"))\n",
        "x = x + 1\n",
        "y = y + 1\n",
        "z = z + 1\n",
        "print(\"변경된 값 : \",x, y, z)"
      ],
      "metadata": {
        "id": "ZFOSVB3oN5id",
        "colab": {
          "base_uri": "https://localhost:8080/"
        },
        "outputId": "d07d1644-0292-4b94-b87c-d48004a684f2"
      },
      "execution_count": 7,
      "outputs": [
        {
          "output_type": "stream",
          "name": "stdout",
          "text": [
            "3개의 값을 입력하시오\n",
            "Enter the x:3\n",
            "Enter the y:6\n",
            "Enter the z:1\n",
            "변경된 값 :  4 7 2\n"
          ]
        }
      ]
    },
    {
      "cell_type": "code",
      "source": [
        "a = 10\n",
        "b = 6000\n",
        "c = a * b\n",
        "print(c)"
      ],
      "metadata": {
        "id": "wL3IKYXBNqrF",
        "colab": {
          "base_uri": "https://localhost:8080/"
        },
        "outputId": "8e0afbe9-935e-4b9a-9042-14511838310a"
      },
      "execution_count": 8,
      "outputs": [
        {
          "output_type": "stream",
          "name": "stdout",
          "text": [
            "60000\n"
          ]
        }
      ]
    },
    {
      "cell_type": "code",
      "source": [
        "pay_rate = 8750\n",
        "hours_worked = int(input(\"일을 한 전체 시간을 입력하세요!:\"))\n",
        "monthly_pay = hours_worked * pay_rate\n",
        "print(monthly_pay)\n",
        "\n"
      ],
      "metadata": {
        "id": "0TBm4NFaOks3",
        "colab": {
          "base_uri": "https://localhost:8080/"
        },
        "outputId": "dc3fc959-ef8c-4120-8c56-4f5ad377687c"
      },
      "execution_count": 9,
      "outputs": [
        {
          "output_type": "stream",
          "name": "stdout",
          "text": [
            "일을 한 전체 시간을 입력하세요!:7\n",
            "61250\n"
          ]
        }
      ]
    },
    {
      "cell_type": "code",
      "source": [
        "won = 100000\n",
        "usd = won * 1343\n",
        "print(usd)"
      ],
      "metadata": {
        "id": "8xLJDnnvPmrU",
        "colab": {
          "base_uri": "https://localhost:8080/"
        },
        "outputId": "b67e1716-d4ea-4132-9989-716d6402a8d4"
      },
      "execution_count": 10,
      "outputs": [
        {
          "output_type": "stream",
          "name": "stdout",
          "text": [
            "134300000\n"
          ]
        }
      ]
    },
    {
      "cell_type": "code",
      "source": [
        "exchange_rate = int(input(\"현재환율입력:\"))\n",
        "won = 100000\n",
        "usd = won * exchange_rate\n",
        "print(usd)\n"
      ],
      "metadata": {
        "id": "HRPBk_K9Pyo8",
        "colab": {
          "base_uri": "https://localhost:8080/"
        },
        "outputId": "065a1fd9-231d-419e-c398-40ac1f1b1689"
      },
      "execution_count": 11,
      "outputs": [
        {
          "output_type": "stream",
          "name": "stdout",
          "text": [
            "현재환율입력:1468\n",
            "146800000\n"
          ]
        }
      ]
    },
    {
      "cell_type": "code",
      "source": [
        "fahrenheit = 100\n",
        "celsius = fahrenheit-32\n",
        "celsius = celsius * 5\n",
        "celsius = celsius/9\n",
        "print(celsius)"
      ],
      "metadata": {
        "colab": {
          "base_uri": "https://localhost:8080/"
        },
        "id": "GLwgWJj57_X7",
        "outputId": "770a6aa1-548c-4f88-a98e-d6c2ac75d967"
      },
      "execution_count": 1,
      "outputs": [
        {
          "output_type": "stream",
          "name": "stdout",
          "text": [
            "37.77777777777778\n"
          ]
        }
      ]
    },
    {
      "cell_type": "code",
      "source": [
        "x = 0\n",
        "y = 0 #코드의의 첫번째는 초기화\n",
        "x = int(input(\"정수 x를 입력하시오:\"))\n",
        "y = int(input(\"정수 y를 입력하시오:\"))\n",
        "sum = x + y\n",
        "print(sum)"
      ],
      "metadata": {
        "colab": {
          "base_uri": "https://localhost:8080/"
        },
        "id": "YSahsbPY8UuG",
        "outputId": "fef16cfb-e27d-4711-b5c9-4d00667bf70c"
      },
      "execution_count": 2,
      "outputs": [
        {
          "output_type": "stream",
          "name": "stdout",
          "text": [
            "정수 x를 입력하시오:2\n",
            "정수 y를 입력하시오:4\n",
            "6\n"
          ]
        }
      ]
    },
    {
      "cell_type": "code",
      "source": [
        "price = int(input(\"상품의 가격을 입력하시오:\"))\n",
        "vat = price * 0.1\n",
        "print(vat)\n"
      ],
      "metadata": {
        "colab": {
          "base_uri": "https://localhost:8080/"
        },
        "id": "lU-2Elpk801m",
        "outputId": "a0503f65-2639-4316-f128-9056dd9aa8d8"
      },
      "execution_count": 12,
      "outputs": [
        {
          "output_type": "stream",
          "name": "stdout",
          "text": [
            "상품의 가격을 입력하시오:67888\n",
            "6788.8\n"
          ]
        }
      ]
    },
    {
      "cell_type": "code",
      "source": [
        "\\age = int(input(\"현재 나이를 입력하시오:\"))\n",
        "age = age + 10\n",
        "print(\"10년후면\",age, \"세가 되시는군요\")"
      ],
      "metadata": {
        "colab": {
          "base_uri": "https://localhost:8080/"
        },
        "id": "SZh-Ik-J9Die",
        "outputId": "5c7f005a-8cc5-4e6b-923d-597460a66b78"
      },
      "execution_count": 13,
      "outputs": [
        {
          "output_type": "stream",
          "name": "stdout",
          "text": [
            "현재 나이를 입력하시오:21\n",
            "10년후면 31 세가 되시는군요\n"
          ]
        }
      ]
    },
    {
      "cell_type": "code",
      "source": [
        "print(\"#######################\")\n",
        "print(\"#   배송료 계산 프로그램   #\")\n",
        "print(\"#######################\")\n",
        "price = int(input(\"상품의 가격을 입력하세요:\"))\n",
        "if price > 2000:\n",
        "  shipping_cost = 0\n",
        "else:\n",
        "  shipping_cost = 3000\n",
        "print(shipping_cost)"
      ],
      "metadata": {
        "colab": {
          "base_uri": "https://localhost:8080/"
        },
        "id": "eJrTdKrW9XrX",
        "outputId": "fda4bc1b-72fc-4c05-bb59-7fb02c9a0bec"
      },
      "execution_count": 14,
      "outputs": [
        {
          "output_type": "stream",
          "name": "stdout",
          "text": [
            "#######################\n",
            "#   배송료 계산 프로그램   #\n",
            "#######################\n",
            "상품의 가격을 입력하세요:560000\n",
            "0\n"
          ]
        }
      ]
    },
    {
      "cell_type": "code",
      "source": [
        "print(\"########################\")\n",
        "print(\"# 합격 불합격 프로그램 #\")\n",
        "print(\"########################\")\n",
        "grade = int(input(\"성적을 입력하시오.:\"))\n",
        "if grade >= 60 :\n",
        "  print(\"합격\")\n",
        "else :\n",
        "  print(\"불합격\")\n",
        "  "
      ],
      "metadata": {
        "id": "gTCeGqex9wWE"
      },
      "execution_count": null,
      "outputs": []
    },
    {
      "cell_type": "code",
      "source": [
        "print(\"########################\")\n",
        "print(\"#   이름, 나이, 답변 앱    #\")\n",
        "print(\"########################\")\n",
        "yu_name = str(input(\"이름:\"))\n",
        "yu_age = int(input(\"나이:\"))\n",
        "if yu_age <= 25 :\n",
        "  print(\"와우!!!프로그래밍을 완벽하게 배울 수 있는 나이입니다.!\")\n",
        "else :\n",
        "  print(\"포기하기에는 아직 늦지 않았습니다.!\")\n",
        "print(\"n\")\n"
      ],
      "metadata": {
        "colab": {
          "base_uri": "https://localhost:8080/"
        },
        "id": "-pK4lKxR_eIe",
        "outputId": "f551b3ea-4c3c-41af-beed-2e981e75e4bc"
      },
      "execution_count": 15,
      "outputs": [
        {
          "output_type": "stream",
          "name": "stdout",
          "text": [
            "########################\n",
            "#   이름, 나이, 답변 앱    #\n",
            "########################\n",
            "이름:양예은\n",
            "나이:21\n",
            "와우!!!프로그래밍을 완벽하게 배울 수 있는 나이입니다.!\n",
            "n\n"
          ]
        }
      ]
    },
    {
      "cell_type": "code",
      "source": [
        "print(\"##########################\")\n",
        "print(\"#   짝수와 홀수 판별 앱 - 1   #\")\n",
        "print(\"##########################\")\n",
        "sum_int = int(input(\"정수를 입력하시오:\"))\n",
        "if (sum_int % 2) !=0 :\n",
        "  print(\"홀수\")\n",
        "else:\n",
        "  print(\"짝수\")\n"
      ],
      "metadata": {
        "colab": {
          "base_uri": "https://localhost:8080/"
        },
        "id": "2l5qOmshAVOW",
        "outputId": "6ceaaa86-f8bb-49c7-f934-295612dc59f2"
      },
      "execution_count": 16,
      "outputs": [
        {
          "output_type": "stream",
          "name": "stdout",
          "text": [
            "##########################\n",
            "#   짝수와 홀수 판별 앱 - 1   #\n",
            "##########################\n",
            "정수를입력하시오:4\n",
            "짝수\n"
          ]
        }
      ]
    },
    {
      "cell_type": "code",
      "source": [
        "print(\"##########################\")\n",
        "print(\"#   짝수와 홀수 판별 앱 - 2   #\")\n",
        "print(\"##########################\")\n",
        "def printEvenOdd():\n",
        "if userData % 2 !==0 :\n",
        "  print('입력한 정수는 짝수입니다.')\n",
        "else:\n",
        "  print('입력한 정수는 홀수입니다.')\n",
        "userData = int(input('정수를 입력하세요.'))\n",
        "printEvenOdd()"
      ],
      "metadata": {
        "colab": {
          "base_uri": "https://localhost:8080/",
          "height": 130
        },
        "id": "5evm8-F7BFco",
        "outputId": "74c47887-109f-4ca8-800d-4f0554f30fbe"
      },
      "execution_count": 37,
      "outputs": [
        {
          "output_type": "error",
          "ename": "IndentationError",
          "evalue": "ignored",
          "traceback": [
            "\u001b[0;36m  File \u001b[0;32m\"<ipython-input-37-aae77c586c34>\"\u001b[0;36m, line \u001b[0;32m5\u001b[0m\n\u001b[0;31m    if userData % 2 !==0 :\u001b[0m\n\u001b[0m     ^\u001b[0m\n\u001b[0;31mIndentationError\u001b[0m\u001b[0;31m:\u001b[0m expected an indented block\n"
          ]
        }
      ]
    }
  ]
}