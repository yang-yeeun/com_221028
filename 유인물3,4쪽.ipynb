{
  "nbformat": 4,
  "nbformat_minor": 0,
  "metadata": {
    "colab": {
      "provenance": [],
      "authorship_tag": "ABX9TyMN0rGIjD2cjCftMMJNXzox",
      "include_colab_link": true
    },
    "kernelspec": {
      "name": "python3",
      "display_name": "Python 3"
    },
    "language_info": {
      "name": "python"
    }
  },
  "cells": [
    {
      "cell_type": "markdown",
      "metadata": {
        "id": "view-in-github",
        "colab_type": "text"
      },
      "source": [
        "<a href=\"https://colab.research.google.com/github/yang-yeeun/com_221028/blob/main/%EC%9C%A0%EC%9D%B8%EB%AC%BC3%2C4%EC%AA%BD.ipynb\" target=\"_parent\"><img src=\"https://colab.research.google.com/assets/colab-badge.svg\" alt=\"Open In Colab\"/></a>"
      ]
    },
    {
      "cell_type": "code",
      "execution_count": 3,
      "metadata": {
        "colab": {
          "base_uri": "https://localhost:8080/"
        },
        "id": "2yQQboJ4-Fog",
        "outputId": "f9999f44-e9e6-4da9-bf3f-d1c29b551bb2"
      },
      "outputs": [
        {
          "output_type": "stream",
          "name": "stdout",
          "text": [
            "Good morning.\n",
            "Good morning.\n",
            "Good morning.\n",
            "국어 점수를 입력하세요.:78\n",
            "영어 점수를 입력하세요.:89\n",
            "수학 점수를 입력하세요.:66\n",
            "국어 78\n",
            "영어 89\n",
            "수학 66\n"
          ]
        }
      ],
      "source": [
        "intro = 'Good morning.'\n",
        "print(intro)\n",
        "print(intro)\n",
        "print(intro)\n",
        "#키보드를 통해서 입력값 받고 출력하기\n",
        "kor = input('국어 점수를 입력하세요.:')\n",
        "eng = input('영어 점수를 입력하세요.:')\n",
        "mat = input('수학 점수를 입력하세요.:')\n",
        "print('국어',kor)\n",
        "print('영어',eng)\n",
        "print('수학',mat)"
      ]
    },
    {
      "cell_type": "code",
      "source": [
        "\n",
        "kor = int(input('국어 점수를 입력하세요.'))\n",
        "eng = int(input('영어 점수를 입력하세요.'))\n",
        "mat = int(input('수학 점수를 입력하세요.'))\n",
        "print('총점 : ',(kor + eng + mat))\n",
        "print('평균 : ',(kor + eng + mat) / 3)"
      ],
      "metadata": {
        "colab": {
          "base_uri": "https://localhost:8080/"
        },
        "id": "YvUDtUoy-orf",
        "outputId": "4b1d4dc3-092f-4add-e68e-1830c61f78d5"
      },
      "execution_count": 5,
      "outputs": [
        {
          "output_type": "stream",
          "name": "stdout",
          "text": [
            "국어 점수를 입력하세요.56\n",
            "영어 점수를 입력하세요.77\n",
            "수학 점수를 입력하세요.84\n",
            "총점 :  217\n",
            "평균 :  72.33333333333333\n"
          ]
        }
      ]
    },
    {
      "cell_type": "code",
      "source": [
        "#정수 2개 입력받아서 더하고,2로 나누기\n",
        "num1 = int(input('첫 번째 정수를 입력하세요.'))\n",
        "num2 = int(input('두 번째 정수를 입력하세요.'))\n",
        "print('합 : ', num1 + num2)\n",
        "print('평균 : ',(num1 + num2) /2 )"
      ],
      "metadata": {
        "colab": {
          "base_uri": "https://localhost:8080/"
        },
        "id": "WmNTzM6O_jJy",
        "outputId": "ba342606-6157-46a6-a009-75e1e0982963"
      },
      "execution_count": 6,
      "outputs": [
        {
          "output_type": "stream",
          "name": "stdout",
          "text": [
            "첫 번째 정수를 입력하세요.4\n",
            "두 번째 정수를 입력하세요.13\n",
            "합 :  17\n",
            "평균 :  8.5\n"
          ]
        }
      ]
    },
    {
      "cell_type": "code",
      "source": [
        "print('사용자 정보를 입력하세요.')\n",
        "name = input('이름 : ')\n",
        "phone = input('연락처 : ')\n",
        "mail = input('메일 : ')\n",
        "job = input('직업 : ')\n",
        "print(name)\n",
        "print(phone)\n",
        "print(mail)\n",
        "print(job)"
      ],
      "metadata": {
        "colab": {
          "base_uri": "https://localhost:8080/"
        },
        "id": "9CGwQy7RAXUr",
        "outputId": "770642ab-5ed8-4c3d-c9ff-d708f83d548d"
      },
      "execution_count": 10,
      "outputs": [
        {
          "output_type": "stream",
          "name": "stdout",
          "text": [
            "사용자 정보를 입력하세요.\n",
            "이름 : 양예은\n",
            "연락처 : 01067772401\n",
            "메일 : yye0212828@gmail.com\n",
            "직업 : 대학생\n",
            "양예은\n",
            "01067772401\n",
            "yye0212828@gmail.com\n",
            "대학생\n"
          ]
        }
      ]
    },
    {
      "cell_type": "code",
      "source": [
        "import random #약속(가져오는 것)\n",
        "ranNum = random.randint(1,100) #1에서부터 100까지\n",
        "print('홀/짝을 맞히세요.')\n",
        "userNum = int(input(\"1.홀수,2.짝수\" \"(1.또는 2를 입력하세요.)-\"))\n",
        "#userNum = int(input('1.홀수,2.짝수'))\n",
        "if ranNum % 2 == userNum % 2 :\n",
        "  print('맞혔습니다.')\n",
        "else:\n",
        "  print('틀렸습니다.')\n",
        "print('난수 : ',ranNum)\n",
        "print('사용자 :',userNum)"
      ],
      "metadata": {
        "colab": {
          "base_uri": "https://localhost:8080/"
        },
        "id": "kTQ7rulCBS0x",
        "outputId": "0316a430-d4eb-4950-9f17-f3887ca4141c"
      },
      "execution_count": 11,
      "outputs": [
        {
          "output_type": "stream",
          "name": "stdout",
          "text": [
            "홀/짝을 맞히세요.\n",
            "1.홀수,2.짝수(1.또는 2를 입력하세요.)-2\n",
            "틀렸습니다.\n",
            "난수 :  3\n",
            "사용자 : 2\n"
          ]
        }
      ]
    },
    {
      "cell_type": "code",
      "source": [
        "morningTemp = int(input('아침 최저 기온:'))\n",
        "afternoonTemp = int(input('오후 최저 기온:'))\n",
        "gapTemp = afternoonTemp - morningTemp\n",
        "if gapTemp >= 10 : print('감기 조심하세요.')\n",
        "elif afternoonTemp >= 28 : print('초여름 날씨입니다.') #else if = elif\n"
      ],
      "metadata": {
        "colab": {
          "base_uri": "https://localhost:8080/"
        },
        "id": "Nl1oSscECe_d",
        "outputId": "0a1ce2c2-71a3-458a-8e09-69ca7231b4c3"
      },
      "execution_count": 13,
      "outputs": [
        {
          "output_type": "stream",
          "name": "stdout",
          "text": [
            "아침 최저 기온:20\n",
            "오후 최저 기온:29\n",
            "초여름 날씨입니다.\n"
          ]
        }
      ]
    },
    {
      "cell_type": "code",
      "source": [
        "import random\n",
        "ranNum = random.randint(1,3)\n",
        "print('가위,바위,보를 선택하세요.')\n",
        "userNum = int(input('1.가위,2.바위,3.보'))\n",
        "\n",
        "if (ranNum == 1 and userNum ==2) or (ranNum == 2 and userNum ==3) or (ranNum ==3 and userNum ==1) : \n",
        "  print('컴퓨터:패, 사용자:승')\n",
        "elif(ranNum == 1 and userNum ==3) or (ranNum ==2 and userNum ==1) or (ranNum ==3 and userNum ==2) : \n",
        "  print('컴퓨터:승, 사용자:패')\n",
        "elif ranNum == userNum:\n",
        "  print('무승부')\n",
        "\n",
        "print('사용자 : ',userNum)\n",
        "print('컴퓨터 : ',ranNum)"
      ],
      "metadata": {
        "colab": {
          "base_uri": "https://localhost:8080/"
        },
        "id": "h57uluG6DM1E",
        "outputId": "8e1f4c4d-17dd-4628-a6a1-779d85d2faf4"
      },
      "execution_count": 18,
      "outputs": [
        {
          "output_type": "stream",
          "name": "stdout",
          "text": [
            "가위,바위,보를 선택하세요.\n",
            "1.가위,2.바위,3.보1\n",
            "컴퓨터:패, 사용자:승\n",
            "사용자 :  1\n",
            "컴퓨터 :  3\n"
          ]
        }
      ]
    },
    {
      "cell_type": "code",
      "source": [
        "userMessage = input('메시지를 입력하세요.')\n",
        "MsgLen = len(userMessage)\n",
        "if MsgLen <= 50 :\n",
        "  print('SMS 발송')\n",
        "else:\n",
        "  print('MMS 발송')\n",
        "print('메시지 길이 : ',MsgLen)"
      ],
      "metadata": {
        "colab": {
          "base_uri": "https://localhost:8080/"
        },
        "id": "IYLtt2rlE7y4",
        "outputId": "1b84243b-a621-4d99-b033-9752332c7ba3"
      },
      "execution_count": 19,
      "outputs": [
        {
          "output_type": "stream",
          "name": "stdout",
          "text": [
            "메시지를 입력하세요.오늘은 월요일입니다.. 종강이 16일정도 남았네요 크리스마스가 기대됩니다\n",
            "SMS 발송\n",
            "메시지 길이 :  40\n"
          ]
        }
      ]
    }
  ]
}